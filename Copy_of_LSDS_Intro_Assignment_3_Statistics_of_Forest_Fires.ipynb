{
  "nbformat": 4,
  "nbformat_minor": 0,
  "metadata": {
    "colab": {
      "name": "Copy of LSDS Intro Assignment 3 - Statistics of Forest Fires.ipynb",
      "version": "0.3.2",
      "provenance": [],
      "collapsed_sections": [],
      "include_colab_link": true
    },
    "kernelspec": {
      "name": "python3",
      "display_name": "Python 3"
    }
  },
  "cells": [
    {
      "cell_type": "markdown",
      "metadata": {
        "id": "view-in-github",
        "colab_type": "text"
      },
      "source": [
        "<a href=\"https://colab.research.google.com/github/connorpheraty/LSDS_Intro/blob/master/Copy_of_LSDS_Intro_Assignment_3_Statistics_of_Forest_Fires.ipynb\" target=\"_parent\"><img src=\"https://colab.research.google.com/assets/colab-badge.svg\" alt=\"Open In Colab\"/></a>"
      ]
    },
    {
      "metadata": {
        "id": "uKYVNFs44mfD",
        "colab_type": "text"
      },
      "cell_type": "markdown",
      "source": [
        "# Lambda School Data Science - Forest Fire Statistics\n",
        "\n",
        "![Forest fire](https://www.publicdomainpictures.net/pictures/220000/velka/forest-fire.jpg)\n",
        "\n",
        "Forest fires are a sadly timely topic, but data can help us better understand and perhaps manage them in future. In this assignment you'll look at a data set of forest fires in Portugal during 2007 - this is a real research dataset, and you can [read more about it](https://archive.ics.uci.edu/ml/datasets/Forest+Fires) though you do not need to for this assignment.\n",
        "\n",
        "For our purposes, the main thing that you need to understand are the attributes in the data.\n",
        "\n",
        "1. X - x-axis spatial coordinate within the Montesinho park map: 1 to 9\n",
        "2. Y - y-axis spatial coordinate within the Montesinho park map: 2 to 9\n",
        "3. month - month of the year: 'jan' to 'dec'\n",
        "4. day - day of the week: 'mon' to 'sun'\n",
        "5. FFMC - FFMC index from the FWI system: 18.7 to 96.20\n",
        "6. DMC - DMC index from the FWI system: 1.1 to 291.3\n",
        "7. DC - DC index from the FWI system: 7.9 to 860.6\n",
        "8. ISI - ISI index from the FWI system: 0.0 to 56.10\n",
        "9. temp - temperature in Celsius degrees: 2.2 to 33.30\n",
        "10. RH - relative humidity in %: 15.0 to 100\n",
        "11. wind - wind speed in km/h: 0.40 to 9.40\n",
        "12. rain - outside rain in mm/m2 : 0.0 to 6.4\n",
        "13. area - the burned area of the forest (in ha): 0.00 to 1090.84 \n",
        "\n",
        "Most of these features are numeric - this means we can do things like look at their mean, median, mode, and plot histograms. They have technical sounding names, but generally refer to meteorological data (i.e. the weather).\n",
        "\n",
        "For the discrete features we can still draw histograms (as in the lecture notebook). X and Y are already integer values - month and day do have natural order, but if you want to use them you may want to translate them from strings to numbers (hint - you can build a dict that maps them, and loop over to apply it)."
      ]
    },
    {
      "metadata": {
        "id": "2hdt1i4H6gQ2",
        "colab_type": "text"
      },
      "cell_type": "markdown",
      "source": [
        "## Exercise 1 - Load the data and take a peek\n",
        "\n",
        "The data is accessible as a CSV at the URL: https://archive.ics.uci.edu/ml/machine-learning-databases/forest-fires/forestfires.csv\n",
        "\n",
        "You want to load this into a dataframe, so you can then look at the variables and perform descriptive statistics.\n",
        "\n",
        "After you load it, verify that you've got it working by printing the first five rows of data."
      ]
    },
    {
      "metadata": {
        "id": "s1ZQrmPs282o",
        "colab_type": "code",
        "colab": {
          "base_uri": "https://localhost:8080/",
          "height": 204
        },
        "outputId": "c7ab5b0a-02cf-4f8b-8e82-d9617e7cd12a"
      },
      "cell_type": "code",
      "source": [
        "import pandas as pd\n",
        "import io\n",
        "import requests\n",
        "url=\"https://archive.ics.uci.edu/ml/machine-learning-databases/forest-fires/forestfires.csv\"\n",
        "s=requests.get(url).content\n",
        "data =pd.read_csv(io.StringIO(s.decode('utf-8')))\n",
        "data.head()"
      ],
      "execution_count": 21,
      "outputs": [
        {
          "output_type": "execute_result",
          "data": {
            "text/html": [
              "<div>\n",
              "<style scoped>\n",
              "    .dataframe tbody tr th:only-of-type {\n",
              "        vertical-align: middle;\n",
              "    }\n",
              "\n",
              "    .dataframe tbody tr th {\n",
              "        vertical-align: top;\n",
              "    }\n",
              "\n",
              "    .dataframe thead th {\n",
              "        text-align: right;\n",
              "    }\n",
              "</style>\n",
              "<table border=\"1\" class=\"dataframe\">\n",
              "  <thead>\n",
              "    <tr style=\"text-align: right;\">\n",
              "      <th></th>\n",
              "      <th>X</th>\n",
              "      <th>Y</th>\n",
              "      <th>month</th>\n",
              "      <th>day</th>\n",
              "      <th>FFMC</th>\n",
              "      <th>DMC</th>\n",
              "      <th>DC</th>\n",
              "      <th>ISI</th>\n",
              "      <th>temp</th>\n",
              "      <th>RH</th>\n",
              "      <th>wind</th>\n",
              "      <th>rain</th>\n",
              "      <th>area</th>\n",
              "    </tr>\n",
              "  </thead>\n",
              "  <tbody>\n",
              "    <tr>\n",
              "      <th>0</th>\n",
              "      <td>7</td>\n",
              "      <td>5</td>\n",
              "      <td>mar</td>\n",
              "      <td>fri</td>\n",
              "      <td>86.2</td>\n",
              "      <td>26.2</td>\n",
              "      <td>94.3</td>\n",
              "      <td>5.1</td>\n",
              "      <td>8.2</td>\n",
              "      <td>51</td>\n",
              "      <td>6.7</td>\n",
              "      <td>0.0</td>\n",
              "      <td>0.0</td>\n",
              "    </tr>\n",
              "    <tr>\n",
              "      <th>1</th>\n",
              "      <td>7</td>\n",
              "      <td>4</td>\n",
              "      <td>oct</td>\n",
              "      <td>tue</td>\n",
              "      <td>90.6</td>\n",
              "      <td>35.4</td>\n",
              "      <td>669.1</td>\n",
              "      <td>6.7</td>\n",
              "      <td>18.0</td>\n",
              "      <td>33</td>\n",
              "      <td>0.9</td>\n",
              "      <td>0.0</td>\n",
              "      <td>0.0</td>\n",
              "    </tr>\n",
              "    <tr>\n",
              "      <th>2</th>\n",
              "      <td>7</td>\n",
              "      <td>4</td>\n",
              "      <td>oct</td>\n",
              "      <td>sat</td>\n",
              "      <td>90.6</td>\n",
              "      <td>43.7</td>\n",
              "      <td>686.9</td>\n",
              "      <td>6.7</td>\n",
              "      <td>14.6</td>\n",
              "      <td>33</td>\n",
              "      <td>1.3</td>\n",
              "      <td>0.0</td>\n",
              "      <td>0.0</td>\n",
              "    </tr>\n",
              "    <tr>\n",
              "      <th>3</th>\n",
              "      <td>8</td>\n",
              "      <td>6</td>\n",
              "      <td>mar</td>\n",
              "      <td>fri</td>\n",
              "      <td>91.7</td>\n",
              "      <td>33.3</td>\n",
              "      <td>77.5</td>\n",
              "      <td>9.0</td>\n",
              "      <td>8.3</td>\n",
              "      <td>97</td>\n",
              "      <td>4.0</td>\n",
              "      <td>0.2</td>\n",
              "      <td>0.0</td>\n",
              "    </tr>\n",
              "    <tr>\n",
              "      <th>4</th>\n",
              "      <td>8</td>\n",
              "      <td>6</td>\n",
              "      <td>mar</td>\n",
              "      <td>sun</td>\n",
              "      <td>89.3</td>\n",
              "      <td>51.3</td>\n",
              "      <td>102.2</td>\n",
              "      <td>9.6</td>\n",
              "      <td>11.4</td>\n",
              "      <td>99</td>\n",
              "      <td>1.8</td>\n",
              "      <td>0.0</td>\n",
              "      <td>0.0</td>\n",
              "    </tr>\n",
              "  </tbody>\n",
              "</table>\n",
              "</div>"
            ],
            "text/plain": [
              "   X  Y month  day  FFMC   DMC     DC  ISI  temp  RH  wind  rain  area\n",
              "0  7  5   mar  fri  86.2  26.2   94.3  5.1   8.2  51   6.7   0.0   0.0\n",
              "1  7  4   oct  tue  90.6  35.4  669.1  6.7  18.0  33   0.9   0.0   0.0\n",
              "2  7  4   oct  sat  90.6  43.7  686.9  6.7  14.6  33   1.3   0.0   0.0\n",
              "3  8  6   mar  fri  91.7  33.3   77.5  9.0   8.3  97   4.0   0.2   0.0\n",
              "4  8  6   mar  sun  89.3  51.3  102.2  9.6  11.4  99   1.8   0.0   0.0"
            ]
          },
          "metadata": {
            "tags": []
          },
          "execution_count": 21
        }
      ]
    },
    {
      "metadata": {
        "id": "EGgnrgm5sm_O",
        "colab_type": "code",
        "colab": {
          "base_uri": "https://localhost:8080/",
          "height": 297
        },
        "outputId": "7c96ce1a-08ed-41fc-c914-521a7493b49b"
      },
      "cell_type": "code",
      "source": [
        "data.describe()"
      ],
      "execution_count": 22,
      "outputs": [
        {
          "output_type": "execute_result",
          "data": {
            "text/html": [
              "<div>\n",
              "<style scoped>\n",
              "    .dataframe tbody tr th:only-of-type {\n",
              "        vertical-align: middle;\n",
              "    }\n",
              "\n",
              "    .dataframe tbody tr th {\n",
              "        vertical-align: top;\n",
              "    }\n",
              "\n",
              "    .dataframe thead th {\n",
              "        text-align: right;\n",
              "    }\n",
              "</style>\n",
              "<table border=\"1\" class=\"dataframe\">\n",
              "  <thead>\n",
              "    <tr style=\"text-align: right;\">\n",
              "      <th></th>\n",
              "      <th>X</th>\n",
              "      <th>Y</th>\n",
              "      <th>FFMC</th>\n",
              "      <th>DMC</th>\n",
              "      <th>DC</th>\n",
              "      <th>ISI</th>\n",
              "      <th>temp</th>\n",
              "      <th>RH</th>\n",
              "      <th>wind</th>\n",
              "      <th>rain</th>\n",
              "      <th>area</th>\n",
              "    </tr>\n",
              "  </thead>\n",
              "  <tbody>\n",
              "    <tr>\n",
              "      <th>count</th>\n",
              "      <td>517.000000</td>\n",
              "      <td>517.000000</td>\n",
              "      <td>517.000000</td>\n",
              "      <td>517.000000</td>\n",
              "      <td>517.000000</td>\n",
              "      <td>517.000000</td>\n",
              "      <td>517.000000</td>\n",
              "      <td>517.000000</td>\n",
              "      <td>517.000000</td>\n",
              "      <td>517.000000</td>\n",
              "      <td>517.000000</td>\n",
              "    </tr>\n",
              "    <tr>\n",
              "      <th>mean</th>\n",
              "      <td>4.669246</td>\n",
              "      <td>4.299807</td>\n",
              "      <td>90.644681</td>\n",
              "      <td>110.872340</td>\n",
              "      <td>547.940039</td>\n",
              "      <td>9.021663</td>\n",
              "      <td>18.889168</td>\n",
              "      <td>44.288201</td>\n",
              "      <td>4.017602</td>\n",
              "      <td>0.021663</td>\n",
              "      <td>12.847292</td>\n",
              "    </tr>\n",
              "    <tr>\n",
              "      <th>std</th>\n",
              "      <td>2.313778</td>\n",
              "      <td>1.229900</td>\n",
              "      <td>5.520111</td>\n",
              "      <td>64.046482</td>\n",
              "      <td>248.066192</td>\n",
              "      <td>4.559477</td>\n",
              "      <td>5.806625</td>\n",
              "      <td>16.317469</td>\n",
              "      <td>1.791653</td>\n",
              "      <td>0.295959</td>\n",
              "      <td>63.655818</td>\n",
              "    </tr>\n",
              "    <tr>\n",
              "      <th>min</th>\n",
              "      <td>1.000000</td>\n",
              "      <td>2.000000</td>\n",
              "      <td>18.700000</td>\n",
              "      <td>1.100000</td>\n",
              "      <td>7.900000</td>\n",
              "      <td>0.000000</td>\n",
              "      <td>2.200000</td>\n",
              "      <td>15.000000</td>\n",
              "      <td>0.400000</td>\n",
              "      <td>0.000000</td>\n",
              "      <td>0.000000</td>\n",
              "    </tr>\n",
              "    <tr>\n",
              "      <th>25%</th>\n",
              "      <td>3.000000</td>\n",
              "      <td>4.000000</td>\n",
              "      <td>90.200000</td>\n",
              "      <td>68.600000</td>\n",
              "      <td>437.700000</td>\n",
              "      <td>6.500000</td>\n",
              "      <td>15.500000</td>\n",
              "      <td>33.000000</td>\n",
              "      <td>2.700000</td>\n",
              "      <td>0.000000</td>\n",
              "      <td>0.000000</td>\n",
              "    </tr>\n",
              "    <tr>\n",
              "      <th>50%</th>\n",
              "      <td>4.000000</td>\n",
              "      <td>4.000000</td>\n",
              "      <td>91.600000</td>\n",
              "      <td>108.300000</td>\n",
              "      <td>664.200000</td>\n",
              "      <td>8.400000</td>\n",
              "      <td>19.300000</td>\n",
              "      <td>42.000000</td>\n",
              "      <td>4.000000</td>\n",
              "      <td>0.000000</td>\n",
              "      <td>0.520000</td>\n",
              "    </tr>\n",
              "    <tr>\n",
              "      <th>75%</th>\n",
              "      <td>7.000000</td>\n",
              "      <td>5.000000</td>\n",
              "      <td>92.900000</td>\n",
              "      <td>142.400000</td>\n",
              "      <td>713.900000</td>\n",
              "      <td>10.800000</td>\n",
              "      <td>22.800000</td>\n",
              "      <td>53.000000</td>\n",
              "      <td>4.900000</td>\n",
              "      <td>0.000000</td>\n",
              "      <td>6.570000</td>\n",
              "    </tr>\n",
              "    <tr>\n",
              "      <th>max</th>\n",
              "      <td>9.000000</td>\n",
              "      <td>9.000000</td>\n",
              "      <td>96.200000</td>\n",
              "      <td>291.300000</td>\n",
              "      <td>860.600000</td>\n",
              "      <td>56.100000</td>\n",
              "      <td>33.300000</td>\n",
              "      <td>100.000000</td>\n",
              "      <td>9.400000</td>\n",
              "      <td>6.400000</td>\n",
              "      <td>1090.840000</td>\n",
              "    </tr>\n",
              "  </tbody>\n",
              "</table>\n",
              "</div>"
            ],
            "text/plain": [
              "                X           Y        FFMC         DMC          DC         ISI  \\\n",
              "count  517.000000  517.000000  517.000000  517.000000  517.000000  517.000000   \n",
              "mean     4.669246    4.299807   90.644681  110.872340  547.940039    9.021663   \n",
              "std      2.313778    1.229900    5.520111   64.046482  248.066192    4.559477   \n",
              "min      1.000000    2.000000   18.700000    1.100000    7.900000    0.000000   \n",
              "25%      3.000000    4.000000   90.200000   68.600000  437.700000    6.500000   \n",
              "50%      4.000000    4.000000   91.600000  108.300000  664.200000    8.400000   \n",
              "75%      7.000000    5.000000   92.900000  142.400000  713.900000   10.800000   \n",
              "max      9.000000    9.000000   96.200000  291.300000  860.600000   56.100000   \n",
              "\n",
              "             temp          RH        wind        rain         area  \n",
              "count  517.000000  517.000000  517.000000  517.000000   517.000000  \n",
              "mean    18.889168   44.288201    4.017602    0.021663    12.847292  \n",
              "std      5.806625   16.317469    1.791653    0.295959    63.655818  \n",
              "min      2.200000   15.000000    0.400000    0.000000     0.000000  \n",
              "25%     15.500000   33.000000    2.700000    0.000000     0.000000  \n",
              "50%     19.300000   42.000000    4.000000    0.000000     0.520000  \n",
              "75%     22.800000   53.000000    4.900000    0.000000     6.570000  \n",
              "max     33.300000  100.000000    9.400000    6.400000  1090.840000  "
            ]
          },
          "metadata": {
            "tags": []
          },
          "execution_count": 22
        }
      ]
    },
    {
      "metadata": {
        "id": "H82vSWGC6-Ui",
        "colab_type": "text"
      },
      "cell_type": "markdown",
      "source": [
        "## Exercise 2 - Explore and summarize the data\n",
        "\n",
        "Now that you've got the data, take a deeper look at it - the description above gives the overall range (from minimum to maximum), but look at the other core statistics. You should pick three variables you want to look at - two continuous, and one discrete, and for each you should calculate the mean and median.\n",
        "\n",
        "Don't use the magic built-in functions of pandas or other libraries - write your own functions to calculate mean and median (you can of course refer to the lecture notebooks for help). This is a good exercise both to practice coding and reinforce the statistical concepts.\n",
        "\n",
        "For each of the three variables you look at, answer the following questions (as comments in your code):\n",
        "\n",
        "- Is the median larger or smaller than the mean?\n",
        "- What does that tell you about how the variable is distributed?\n",
        "- (For the discrete variable only) What is the mode?\n",
        "\n",
        "Hint - it may help to draw a histogram to look at the variable and really get a feel for it.\n",
        "\n",
        "Another hint - part of this exercise is making sure you can distinguish between continuous and discrete variables, so take some time to think through your choice of variables."
      ]
    },
    {
      "metadata": {
        "id": "Jdsvuj8n8Kic",
        "colab_type": "code",
        "colab": {}
      },
      "cell_type": "code",
      "source": [
        "import numpy as np\n",
        "import pandas as pd\n",
        "import matplotlib.pyplot as plt\n",
        "from collections import Counter\n",
        "%matplotlib inline"
      ],
      "execution_count": 0,
      "outputs": []
    },
    {
      "metadata": {
        "id": "Z6evDCe779MH",
        "colab_type": "code",
        "colab": {}
      },
      "cell_type": "code",
      "source": [
        "def mean(column):\n",
        "    return sum(column) / len(column)"
      ],
      "execution_count": 0,
      "outputs": []
    },
    {
      "metadata": {
        "id": "Lim7q-KY79TZ",
        "colab_type": "code",
        "colab": {}
      },
      "cell_type": "code",
      "source": [
        "def median(column):\n",
        "    total_count = len(column)\n",
        "    \n",
        "    sorted_col_list = sorted(list(column))\n",
        "    \n",
        "    \n",
        "    if len(column) % 2 == 0:\n",
        "        \n",
        "        med_high_index = int((total_count / 2)) \n",
        "        med_low_index = int((total_count / 2) - 1)\n",
        "        \n",
        "        med_high_num = sorted_col_list[med_high_index]\n",
        "        med_low_num = sorted_col_list[med_low_index]\n",
        "        \n",
        "        return (med_high_num + med_low_num) / 2  \n",
        "    else:\n",
        "        med_index = int(total_count / 2)\n",
        "        return sorted_col_list[med_index]"
      ],
      "execution_count": 0,
      "outputs": []
    },
    {
      "metadata": {
        "id": "xOm58du379WB",
        "colab_type": "code",
        "colab": {}
      },
      "cell_type": "code",
      "source": [
        "def meanMedian(column):\n",
        "    \n",
        "    # Mean\n",
        "    \n",
        "    col_mean = mean(column)\n",
        "    print('The mean for this category is: ' + str(col_mean))\n",
        "   \n",
        "    # Median\n",
        "    \n",
        "    col_median = median(column)\n",
        "    print('The median for is: ' + str(col_median))"
      ],
      "execution_count": 0,
      "outputs": []
    },
    {
      "metadata": {
        "id": "abNnRhQr79Yv",
        "colab_type": "code",
        "colab": {
          "base_uri": "https://localhost:8080/",
          "height": 119
        },
        "outputId": "60d15bcf-23a4-47a1-e9f7-f37bbe9c2321"
      },
      "cell_type": "code",
      "source": [
        "meanMedian(data['DMC'])\n",
        "print('\\n')\n",
        "meanMedian(data['ISI'])\n",
        "\n",
        "# The median for the DMC and ISI category is slightly lower than the mean. This indicates there may be high values on the right end of the distribution that are skewing the mean right. \n",
        "# Per review of a histogram plot of the DMC and ISI values, there appears to be higher values on the right side of the distribution that are indeed skewing the mean right."
      ],
      "execution_count": 27,
      "outputs": [
        {
          "output_type": "stream",
          "text": [
            "The mean for this category is: 110.87234042553195\n",
            "The median for is: 108.3\n",
            "\n",
            "\n",
            "The mean for this category is: 9.021663442940042\n",
            "The median for is: 8.4\n"
          ],
          "name": "stdout"
        }
      ]
    },
    {
      "metadata": {
        "id": "Dd5efRqs8RT9",
        "colab_type": "code",
        "colab": {}
      },
      "cell_type": "code",
      "source": [
        "#This function can find the mode for both the month and day column (discrete variable)\n",
        "\n",
        "def monthDayMode(column):\n",
        "  column_dict = Counter(column)\n",
        "  mode = max(column, key=column_dict.get)\n",
        "  print(column_dict)\n",
        "  print('The mode for this column is: ' + str(mode))"
      ],
      "execution_count": 0,
      "outputs": []
    },
    {
      "metadata": {
        "id": "MHp7VShP-93a",
        "colab_type": "code",
        "colab": {
          "base_uri": "https://localhost:8080/",
          "height": 51
        },
        "outputId": "92c2e5c1-a484-4eab-d07a-c7455146c487"
      },
      "cell_type": "code",
      "source": [
        "monthDayMode(data['month'])"
      ],
      "execution_count": 58,
      "outputs": [
        {
          "output_type": "stream",
          "text": [
            "Counter({'aug': 184, 'sep': 172, 'mar': 54, 'jul': 32, 'feb': 20, 'jun': 17, 'oct': 15, 'apr': 9, 'dec': 9, 'jan': 2, 'may': 2, 'nov': 1})\n",
            "The mode for this column is: aug\n"
          ],
          "name": "stdout"
        }
      ]
    },
    {
      "metadata": {
        "id": "dPNdWfnkCJby",
        "colab_type": "code",
        "colab": {}
      },
      "cell_type": "code",
      "source": [
        "# This function is designed to create histograms from 1-D arrays.\n",
        "\n",
        "import plotly.plotly as py\n",
        "import plotly.tools as tls\n",
        "\n",
        "def make_hist(column):\n",
        "\n",
        "  forest_fire = column\n",
        "  plt.hist(forest_fire)\n",
        "  plt.xlabel(\"Value\")\n",
        "  plt.ylabel(\"Frequency\")\n",
        "\n",
        "  fig = plt.plot()"
      ],
      "execution_count": 0,
      "outputs": []
    },
    {
      "metadata": {
        "id": "rvvrXbyACJnC",
        "colab_type": "code",
        "colab": {
          "base_uri": "https://localhost:8080/",
          "height": 279
        },
        "outputId": "ab3732a8-c299-4907-e4e7-131d3fedb0eb"
      },
      "cell_type": "code",
      "source": [
        "# This is a histogram depicting the values of the DMC column on the x-axis and the frequency of the values on the y-axis.\n",
        "\n",
        "make_hist(data['DMC'])"
      ],
      "execution_count": 31,
      "outputs": [
        {
          "output_type": "display_data",
          "data": {
            "image/png": "[encoded data removed]",
            "text/plain": [
              "<matplotlib.figure.Figure at 0x7f55332e6128>"
            ]
          },
          "metadata": {
            "tags": []
          }
        }
      ]
    },
    {
      "metadata": {
        "id": "JI-E_myRCJp8",
        "colab_type": "code",
        "colab": {
          "base_uri": "https://localhost:8080/",
          "height": 279
        },
        "outputId": "ef7dec52-6354-43e0-ef4e-cd6dce0d8c60"
      },
      "cell_type": "code",
      "source": [
        "# This is a histogram depicting the values of the ISI column on the x-axis and the frequency of the values on the y-axis.\n",
        "\n",
        "\n",
        "make_hist(data['ISI'])"
      ],
      "execution_count": 32,
      "outputs": [
        {
          "output_type": "display_data",
          "data": {
            "image/png": "[encoded data removed]",
            "text/plain": [
              "<matplotlib.figure.Figure at 0x7f553326dc18>"
            ]
          },
          "metadata": {
            "tags": []
          }
        }
      ]
    },
    {
      "metadata": {
        "id": "xf1znV6gCJsX",
        "colab_type": "code",
        "colab": {}
      },
      "cell_type": "code",
      "source": [
        ""
      ],
      "execution_count": 0,
      "outputs": []
    },
    {
      "metadata": {
        "id": "rMWYZKVX-HGM",
        "colab_type": "text"
      },
      "cell_type": "markdown",
      "source": [
        "## Exercise 3 - Simulate more data!\n",
        "\n",
        "There are many more things that could be done with this data, but for now we've not learned about hypothesis testing or inferential statistics. So, one fun thing to do is - make more data!\n",
        "\n",
        "How do we do that? We can use the same `random` module demonstrated in lecture, and repeatedly sample our data. This is related to the Monte Carlo method used to demonstrate the central limit theorem. In this setting, such simulations could then be applied to Bayesian methods - another topic for another time.\n",
        "\n",
        "For the same three variables that you looked at in exercise 2, you should do the following:\n",
        "\n",
        "1. Generate a *new* variable based on taking values at random from the original one - make the new variable have at least 10 times as many observations as the original\n",
        "2. Calculate the mean, median, and mode of the new variable (it's okay to use prewritten functions for this)\n",
        "3. Compare your results to what you saw in exercise 2 - it should be very similar\n",
        "\n",
        "Once you're done, look back at your code. Chances are you learned things as you wrote it, and you can revisit it to clean it up a bit. Maybe put pieces of code you use multiple times in a function, or add some explanatory comments so anyone reading (including \"future you\") has a clearer understanding of what you did."
      ]
    },
    {
      "metadata": {
        "id": "yExZ2S4W-xDG",
        "colab_type": "code",
        "colab": {}
      },
      "cell_type": "code",
      "source": [
        "import random"
      ],
      "execution_count": 0,
      "outputs": []
    },
    {
      "metadata": {
        "id": "5UGhOUfNvxdG",
        "colab_type": "code",
        "colab": {}
      },
      "cell_type": "code",
      "source": [
        "new_sample_ISI = np.random.choice(data['ISI'],10000)"
      ],
      "execution_count": 0,
      "outputs": []
    },
    {
      "metadata": {
        "id": "cLWwXExOvxg6",
        "colab_type": "code",
        "colab": {
          "base_uri": "https://localhost:8080/",
          "height": 51
        },
        "outputId": "4e9da02a-d88f-42dd-dda9-e43c57e3868a"
      },
      "cell_type": "code",
      "source": [
        "meanMedian(new_sample_ISI)\n",
        "\n",
        "# The median for the ISI column is the same number from our original dataset while the mean is slightly higher."
      ],
      "execution_count": 48,
      "outputs": [
        {
          "output_type": "stream",
          "text": [
            "The mean for this category is: 9.072030000000048\n",
            "The median for is: 8.4\n"
          ],
          "name": "stdout"
        }
      ]
    },
    {
      "metadata": {
        "id": "ecff9oMYwvuu",
        "colab_type": "code",
        "colab": {
          "base_uri": "https://localhost:8080/",
          "height": 71
        },
        "outputId": "2342838e-07d4-4f4a-b8fb-c33ef6c4370d"
      },
      "cell_type": "code",
      "source": [
        "# I will run ISI through my mode function since I did not do it as part of exercise 2.\n",
        "\n",
        "monthDayMode(data['ISI'])"
      ],
      "execution_count": 49,
      "outputs": [
        {
          "output_type": "stream",
          "text": [
            "Counter({9.6: 23, 7.1: 21, 6.3: 20, 7.0: 17, 8.4: 17, 6.2: 16, 9.2: 15, 7.5: 14, 9.0: 12, 7.8: 12, 8.1: 12, 14.3: 12, 8.5: 9, 10.6: 8, 12.5: 8, 13.9: 7, 8.9: 7, 17.0: 7, 8.6: 7, 9.9: 7, 12.2: 6, 15.9: 6, 5.0: 6, 2.6: 6, 6.8: 6, 1.9: 6, 6.7: 5, 3.8: 5, 11.0: 5, 8.8: 5, 7.7: 5, 7.2: 5, 13.8: 5, 13.5: 5, 10.2: 5, 7.6: 5, 17.7: 5, 14.7: 4, 10.7: 4, 20.3: 4, 4.1: 4, 3.2: 4, 10.4: 4, 8.0: 4, 5.7: 4, 9.5: 4, 6.5: 4, 7.4: 4, 8.2: 4, 18.0: 4, 10.1: 4, 0.8: 3, 3.0: 3, 5.8: 3, 5.3: 3, 4.8: 3, 5.2: 3, 17.9: 3, 2.7: 3, 11.9: 3, 3.5: 3, 12.3: 3, 6.4: 3, 11.4: 3, 12.0: 3, 14.0: 3, 16.8: 3, 14.1: 3, 11.3: 3, 5.1: 2, 8.7: 2, 2.1: 2, 2.9: 2, 2.8: 2, 3.9: 2, 13.2: 2, 11.1: 2, 15.1: 2, 5.5: 2, 13.7: 2, 0.4: 2, 3.7: 2, 5.6: 2, 20.0: 2, 22.6: 1, 56.1: 1, 1.5: 1, 0.7: 1, 16.5: 1, 6.6: 1, 7.9: 1, 2.3: 1, 12.9: 1, 14.4: 1, 13.0: 1, 14.6: 1, 22.7: 1, 2.0: 1, 3.4: 1, 12.7: 1, 5.4: 1, 11.6: 1, 0.0: 1, 2.2: 1, 8.3: 1, 4.0: 1, 12.1: 1, 3.3: 1, 9.8: 1, 9.7: 1, 16.3: 1, 16.7: 1, 1.8: 1, 7.3: 1, 4.7: 1, 9.4: 1, 10.8: 1, 21.3: 1, 1.1: 1})\n",
            "The mode for this column is: 9.6\n"
          ],
          "name": "stdout"
        }
      ]
    },
    {
      "metadata": {
        "id": "pKn-Chusvxkn",
        "colab_type": "code",
        "colab": {
          "base_uri": "https://localhost:8080/",
          "height": 71
        },
        "outputId": "a7c2ce85-f6be-4e1c-b966-0ecd417b958e"
      },
      "cell_type": "code",
      "source": [
        "monthDayMode(new_sample_data)\n",
        "\n",
        "# The mode for the ISI column is the same as our original dataset."
      ],
      "execution_count": 50,
      "outputs": [
        {
          "output_type": "stream",
          "text": [
            "Counter({9.6: 476, 7.1: 430, 6.3: 359, 7.0: 339, 8.4: 330, 6.2: 295, 9.2: 294, 7.5: 260, 7.8: 244, 14.3: 239, 8.1: 236, 9.0: 235, 8.5: 157, 17.0: 148, 12.5: 143, 10.6: 143, 8.6: 142, 13.9: 139, 9.9: 138, 8.9: 133, 15.9: 133, 6.8: 120, 1.9: 118, 2.6: 116, 17.7: 107, 11.0: 101, 13.5: 100, 5.0: 100, 7.6: 98, 10.2: 98, 7.7: 98, 12.2: 98, 13.8: 97, 3.8: 96, 8.8: 94, 10.1: 91, 6.7: 89, 5.7: 84, 8.0: 84, 8.2: 83, 7.2: 81, 9.5: 80, 7.4: 77, 6.5: 76, 18.0: 75, 10.4: 73, 6.4: 72, 4.8: 70, 2.7: 70, 14.7: 69, 4.1: 68, 17.9: 68, 10.7: 66, 3.2: 65, 3.0: 65, 12.3: 63, 11.4: 63, 14.1: 62, 20.3: 62, 0.8: 62, 5.2: 58, 3.5: 56, 0.4: 56, 12.0: 55, 14.0: 55, 11.9: 53, 11.3: 52, 5.3: 52, 16.8: 52, 5.8: 52, 13.2: 49, 3.9: 43, 2.9: 41, 5.5: 39, 13.7: 37, 15.1: 36, 20.0: 36, 11.1: 36, 3.7: 33, 2.1: 33, 8.7: 33, 2.8: 32, 14.6: 31, 5.6: 30, 5.1: 30, 3.4: 27, 56.1: 26, 7.3: 25, 9.4: 24, 1.5: 24, 12.1: 24, 1.1: 23, 22.7: 23, 10.8: 23, 0.0: 22, 1.8: 22, 16.7: 21, 12.9: 21, 5.4: 21, 22.6: 20, 16.3: 20, 2.0: 20, 2.2: 19, 8.3: 19, 3.3: 18, 2.3: 17, 21.3: 17, 11.6: 17, 16.5: 17, 12.7: 16, 4.0: 16, 13.0: 16, 9.8: 15, 14.4: 15, 0.7: 13, 6.6: 13, 9.7: 13, 4.7: 12, 7.9: 9})\n",
            "The mode for this column is: 9.6\n"
          ],
          "name": "stdout"
        }
      ]
    },
    {
      "metadata": {
        "id": "MaDzT_z4wu1y",
        "colab_type": "code",
        "colab": {}
      },
      "cell_type": "code",
      "source": [
        "new_sample_DMC = np.random.choice(data['DMC'], 10000)"
      ],
      "execution_count": 0,
      "outputs": []
    },
    {
      "metadata": {
        "id": "vfmTAJmdxtiU",
        "colab_type": "code",
        "colab": {
          "base_uri": "https://localhost:8080/",
          "height": 51
        },
        "outputId": "675cb9a0-a5b9-4f90-b0b8-cba1b5a61311"
      },
      "cell_type": "code",
      "source": [
        "meanMedian(new_sample_DMC)\n",
        "\n",
        "# The median for the DMC column is the same number from our original dataset while the mean is slightly higher."
      ],
      "execution_count": 52,
      "outputs": [
        {
          "output_type": "stream",
          "text": [
            "The mean for this category is: 111.02083000000185\n",
            "The median for is: 108.3\n"
          ],
          "name": "stdout"
        }
      ]
    },
    {
      "metadata": {
        "id": "PYhLCvxwxtpZ",
        "colab_type": "code",
        "colab": {
          "base_uri": "https://localhost:8080/",
          "height": 71
        },
        "outputId": "d59effa1-3d4d-4d2c-9bd3-cd7a5d8c04e1"
      },
      "cell_type": "code",
      "source": [
        "# I will run DMC through my mode function since I did not do it as part of exercise 2.\n",
        "\n",
        "monthDayMode(data['DMC'])"
      ],
      "execution_count": 53,
      "outputs": [
        {
          "output_type": "stream",
          "text": [
            "Counter({99.0: 10, 129.5: 9, 142.4: 8, 231.1: 8, 126.5: 7, 35.8: 7, 108.3: 7, 137.0: 7, 108.4: 7, 51.3: 6, 145.4: 6, 139.4: 6, 117.9: 6, 149.3: 6, 85.1: 6, 99.6: 6, 111.2: 6, 152.6: 6, 25.4: 6, 102.3: 6, 181.1: 6, 133.3: 5, 52.2: 5, 121.1: 5, 131.7: 5, 157.3: 5, 104.2: 5, 119.0: 5, 130.1: 5, 122.0: 5, 248.4: 5, 181.3: 5, 141.3: 5, 166.9: 5, 33.3: 4, 88.0: 4, 25.7: 4, 96.9: 4, 48.3: 4, 39.7: 4, 124.1: 4, 80.9: 4, 175.1: 4, 105.8: 4, 96.2: 4, 111.7: 4, 276.3: 4, 222.4: 4, 290.0: 4, 207.0: 4, 56.7: 4, 43.7: 3, 85.3: 3, 141.2: 3, 78.5: 3, 91.8: 3, 82.9: 3, 114.3: 3, 46.5: 3, 147.3: 3, 90.0: 3, 73.4: 3, 84.1: 3, 94.3: 3, 203.2: 3, 101.3: 3, 217.7: 3, 227.0: 3, 130.3: 3, 35.4: 2, 70.8: 2, 32.8: 2, 80.7: 2, 23.9: 2, 13.2: 2, 75.3: 2, 103.2: 2, 108.0: 2, 19.5: 2, 37.9: 2, 99.9: 2, 50.1: 2, 9.1: 2, 48.5: 2, 135.7: 2, 81.8: 2, 3.0: 2, 117.2: 2, 170.9: 2, 112.4: 2, 180.4: 2, 89.5: 2, 93.3: 2, 94.1: 2, 115.4: 2, 124.4: 2, 132.3: 2, 18.9: 2, 194.1: 2, 273.8: 2, 96.7: 2, 91.3: 2, 49.5: 2, 235.1: 2, 17.3: 2, 191.4: 2, 4.4: 2, 14.6: 2, 114.4: 2, 158.0: 2, 175.5: 2, 26.2: 1, 88.9: 1, 73.2: 1, 27.9: 1, 27.4: 1, 96.3: 1, 110.9: 1, 69.7: 1, 75.6: 1, 41.5: 1, 60.6: 1, 62.3: 1, 9.3: 1, 6.8: 1, 121.2: 1, 8.0: 1, 2.4: 1, 3.7: 1, 30.7: 1, 21.5: 1, 56.4: 1, 68.6: 1, 51.2: 1, 18.2: 1, 127.1: 1, 90.4: 1, 15.6: 1, 41.9: 1, 44.0: 1, 37.6: 1, 8.7: 1, 150.3: 1, 17.2: 1, 23.3: 1, 122.3: 1, 91.6: 1, 109.2: 1, 138.1: 1, 77.0: 1, 97.9: 1, 141.1: 1, 167.6: 1, 102.2: 1, 27.2: 1, 27.8: 1, 26.4: 1, 26.7: 1, 27.5: 1, 6.6: 1, 4.9: 1, 169.7: 1, 183.1: 1, 100.2: 1, 88.8: 1, 147.8: 1, 71.0: 1, 28.0: 1, 46.2: 1, 134.7: 1, 136.9: 1, 53.3: 1, 87.7: 1, 55.2: 1, 133.6: 1, 1.1: 1, 9.5: 1, 15.0: 1, 4.6: 1, 9.0: 1, 88.2: 1, 84.8: 1, 212.1: 1, 291.3: 1, 8.2: 1, 7.3: 1, 3.2: 1, 92.1: 1, 164.1: 1, 263.1: 1, 287.2: 1, 178.0: 1, 269.8: 1, 84.7: 1, 253.6: 1, 24.9: 1, 47.9: 1, 284.9: 1, 196.8: 1, 238.2: 1, 266.2: 1, 160.0: 1, 3.6: 1, 15.1: 1, 18.5: 1, 20.6: 1, 61.1: 1, 103.8: 1, 121.7: 1, 103.9: 1, 135.5: 1, 152.0: 1, 164.0: 1, 163.2: 1, 146.0: 1})\n",
            "The mode for this column is: 99.0\n"
          ],
          "name": "stdout"
        }
      ]
    },
    {
      "metadata": {
        "id": "VpsBO9Ysxtw_",
        "colab_type": "code",
        "colab": {
          "base_uri": "https://localhost:8080/",
          "height": 71
        },
        "outputId": "304ca7b9-fea0-4784-cc67-9d3c0432b1ca"
      },
      "cell_type": "code",
      "source": [
        "monthDayMode(new_sample_DMC)\n",
        "\n",
        "# The mode for the ISI column is the same as our original dataset."
      ],
      "execution_count": 55,
      "outputs": [
        {
          "output_type": "stream",
          "text": [
            "Counter({99.0: 178, 129.5: 175, 142.4: 173, 231.1: 171, 108.3: 160, 108.4: 145, 126.5: 133, 35.8: 133, 137.0: 128, 111.2: 120, 152.6: 119, 52.2: 119, 117.9: 117, 102.3: 116, 99.6: 113, 121.1: 112, 149.3: 112, 85.1: 112, 131.7: 109, 166.9: 108, 51.3: 106, 181.1: 106, 104.2: 105, 157.3: 103, 145.4: 103, 25.4: 103, 133.3: 101, 119.0: 101, 139.4: 100, 48.3: 96, 122.0: 91, 141.3: 90, 181.3: 88, 25.7: 88, 130.1: 86, 248.4: 85, 96.9: 82, 88.0: 82, 56.7: 81, 207.0: 80, 290.0: 80, 96.2: 76, 80.9: 75, 222.4: 75, 147.3: 75, 33.3: 73, 276.3: 71, 130.3: 71, 39.7: 71, 85.3: 70, 111.7: 68, 105.8: 67, 124.1: 66, 217.7: 64, 82.9: 64, 94.3: 63, 227.0: 63, 73.4: 61, 46.5: 60, 91.8: 58, 90.0: 57, 78.5: 56, 175.1: 56, 84.1: 56, 114.3: 56, 75.3: 54, 43.7: 52, 48.5: 50, 70.8: 50, 101.3: 50, 170.9: 49, 203.2: 48, 114.4: 48, 141.2: 47, 132.3: 47, 91.3: 46, 99.9: 45, 94.1: 45, 115.4: 45, 49.5: 44, 175.5: 44, 108.0: 44, 3.0: 44, 180.4: 43, 14.6: 43, 19.5: 43, 35.4: 40, 191.4: 40, 158.0: 40, 18.9: 39, 124.4: 39, 93.3: 39, 13.2: 38, 23.9: 38, 89.5: 38, 273.8: 38, 135.7: 37, 4.4: 36, 103.2: 36, 96.7: 36, 50.1: 35, 112.4: 34, 37.9: 34, 235.1: 34, 117.2: 33, 9.1: 32, 291.3: 30, 32.8: 30, 80.7: 30, 62.3: 30, 81.8: 29, 263.1: 28, 97.9: 28, 15.6: 28, 194.1: 27, 4.6: 27, 84.8: 27, 134.7: 27, 30.7: 26, 110.9: 26, 96.3: 26, 77.0: 25, 2.4: 25, 69.7: 25, 17.3: 25, 41.9: 24, 135.5: 24, 27.2: 23, 121.2: 23, 27.8: 23, 100.2: 23, 84.7: 23, 164.0: 23, 169.7: 23, 6.8: 22, 122.3: 22, 26.7: 22, 88.9: 22, 164.1: 22, 178.0: 22, 8.0: 22, 183.1: 21, 133.6: 21, 61.1: 21, 9.3: 21, 60.6: 21, 15.0: 20, 167.6: 20, 6.6: 20, 8.7: 20, 150.3: 20, 26.4: 20, 102.2: 20, 152.0: 20, 20.6: 20, 17.2: 20, 56.4: 20, 46.2: 20, 147.8: 19, 160.0: 19, 138.1: 19, 28.0: 19, 284.9: 18, 27.9: 18, 18.5: 18, 136.9: 18, 27.5: 18, 287.2: 18, 24.9: 18, 55.2: 18, 103.9: 18, 146.0: 17, 15.1: 17, 51.2: 17, 163.2: 17, 269.8: 17, 27.4: 17, 7.3: 17, 3.7: 17, 196.8: 17, 41.5: 17, 87.7: 16, 37.6: 16, 103.8: 16, 3.2: 16, 88.2: 16, 47.9: 16, 8.2: 16, 9.0: 16, 73.2: 16, 127.1: 15, 253.6: 15, 141.1: 15, 75.6: 15, 212.1: 15, 1.1: 14, 88.8: 14, 44.0: 14, 92.1: 14, 238.2: 14, 26.2: 14, 91.6: 14, 23.3: 13, 68.6: 13, 109.2: 13, 53.3: 13, 3.6: 13, 71.0: 12, 90.4: 12, 121.7: 11, 21.5: 11, 4.9: 10, 18.2: 10, 9.5: 10, 266.2: 8})\n",
            "The mode for this column is: 99.0\n"
          ],
          "name": "stdout"
        }
      ]
    },
    {
      "metadata": {
        "id": "YmBDHiwwxt4A",
        "colab_type": "code",
        "colab": {}
      },
      "cell_type": "code",
      "source": [
        ""
      ],
      "execution_count": 0,
      "outputs": []
    },
    {
      "metadata": {
        "id": "sj5RYe9yBlfh",
        "colab_type": "text"
      },
      "cell_type": "markdown",
      "source": [
        "## Exercise 4 (*Optional* \"stretch goal\") - Simulate a *lot* of data\n",
        "\n",
        "For *one* of the variables you've been looking at:\n",
        "\n",
        "1. Make an empty list `variablename_means`\n",
        "2. Use your code from exercise 3 to run a Monte Carlo simulation of 1000 experiments where you make a new simulated variable (hint - you'll need a loop)\n",
        "3. For each experiment, calculate the mean of the simulated variable, and append it to the list\n",
        "4. Plot the list as a histogram\n",
        "\n",
        "Once you've done the above, answer the question - how does the distribution of the histogram (of the means of a bunch of simulations of real data) look?"
      ]
    },
    {
      "metadata": {
        "id": "JKlXME96Tuqs",
        "colab_type": "code",
        "colab": {}
      },
      "cell_type": "code",
      "source": [
        "# Your code here!\n",
        "# You can (and should) reuse logic/functions from earlier exercises"
      ],
      "execution_count": 0,
      "outputs": []
    }
  ]
}